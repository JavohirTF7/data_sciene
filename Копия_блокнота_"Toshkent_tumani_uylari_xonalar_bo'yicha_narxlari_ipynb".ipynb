{
  "nbformat": 4,
  "nbformat_minor": 0,
  "metadata": {
    "colab": {
      "private_outputs": true,
      "provenance": [],
      "authorship_tag": "ABX9TyOZrnu35pg1pV3Biae67/2b",
      "include_colab_link": true
    },
    "kernelspec": {
      "name": "python3",
      "display_name": "Python 3"
    },
    "language_info": {
      "name": "python"
    }
  },
  "cells": [
    {
      "cell_type": "markdown",
      "metadata": {
        "id": "view-in-github",
        "colab_type": "text"
      },
      "source": [
        "<a href=\"https://colab.research.google.com/github/JavohirTF7/data_sciene/blob/main/%D0%9A%D0%BE%D0%BF%D0%B8%D1%8F_%D0%B1%D0%BB%D0%BE%D0%BA%D0%BD%D0%BE%D1%82%D0%B0_%22Toshkent_tumani_uylari_xonalar_bo'yicha_narxlari_ipynb%22.ipynb\" target=\"_parent\"><img src=\"https://colab.research.google.com/assets/colab-badge.svg\" alt=\"Open In Colab\"/></a>"
      ]
    },
    {
      "cell_type": "code",
      "execution_count": null,
      "metadata": {
        "id": "RqiE3cgbpFf9"
      },
      "outputs": [],
      "source": [
        "import numpy as np # linear algebra\n",
        "import pandas as pd\n",
        "import matplotlib.pyplot as plt\n",
        "%matplotlib inline\n",
        "import seaborn as sns"
      ]
    },
    {
      "cell_type": "code",
      "source": [
        "df=pd.read_excel(\"/content/uybor.xlsx\")\n",
        "df.head()"
      ],
      "metadata": {
        "id": "7aQ9bmYlp_7U"
      },
      "execution_count": null,
      "outputs": []
    },
    {
      "cell_type": "code",
      "source": [
        "df.info()"
      ],
      "metadata": {
        "id": "9CLZvN0hqBW4"
      },
      "execution_count": null,
      "outputs": []
    },
    {
      "cell_type": "markdown",
      "source": [
        "## NaN qiymatlarni tekshiramiz"
      ],
      "metadata": {
        "id": "cW_kuYTWrQ7z"
      }
    },
    {
      "cell_type": "code",
      "source": [
        "df.isnull().sum()"
      ],
      "metadata": {
        "id": "crm8gRZHq6Dx"
      },
      "execution_count": null,
      "outputs": []
    },
    {
      "cell_type": "code",
      "source": [
        "df.describe()"
      ],
      "metadata": {
        "id": "Iv1XGnr4q8eN"
      },
      "execution_count": null,
      "outputs": []
    },
    {
      "cell_type": "code",
      "source": [
        "df['district'].unique()"
      ],
      "metadata": {
        "id": "W727ATMXq-_7"
      },
      "execution_count": null,
      "outputs": []
    },
    {
      "cell_type": "markdown",
      "source": [
        "olmazor so'zi xato ekan, to'g'irlash"
      ],
      "metadata": {
        "id": "DoxA2MLBrXmD"
      }
    },
    {
      "cell_type": "code",
      "source": [
        "df=df.replace({\"Olmzor\":\"Olmazor\"})"
      ],
      "metadata": {
        "id": "hGVnRtVZrVAx"
      },
      "execution_count": null,
      "outputs": []
    },
    {
      "cell_type": "code",
      "source": [
        "df['district'].unique()"
      ],
      "metadata": {
        "id": "IPw29tfBrcZE"
      },
      "execution_count": null,
      "outputs": []
    },
    {
      "cell_type": "code",
      "source": [
        "df.head()"
      ],
      "metadata": {
        "id": "JR2mC2WqrfZ1"
      },
      "execution_count": null,
      "outputs": []
    },
    {
      "cell_type": "code",
      "source": [
        "df.corr()"
      ],
      "metadata": {
        "id": "T-IdnCq0rihp"
      },
      "execution_count": null,
      "outputs": []
    },
    {
      "cell_type": "markdown",
      "source": [
        "bog'liqlik size - rooms=0.788, size-price=0.781, price-rooms=0.552,"
      ],
      "metadata": {
        "id": "RR_e-Fiyrpzq"
      }
    },
    {
      "cell_type": "code",
      "source": [
        "plt.figure(figsize=(16,6))\n",
        "sns.heatmap(data=df.corr(),linewidth=2,cmap='Spectral')\n",
        "plt.show()"
      ],
      "metadata": {
        "id": "DJjN6AjXrk9g"
      },
      "execution_count": null,
      "outputs": []
    },
    {
      "cell_type": "markdown",
      "source": [
        "## bog'liqlik (size-price=0.781), (price-rooms=0.552) da bor ekan va\n",
        "# (lat-lng), (max_level-level), (size-rooms) da ham bor lekin bularni bizga qizig'i yo'q"
      ],
      "metadata": {
        "id": "UG8-odNAsAI3"
      }
    },
    {
      "cell_type": "code",
      "source": [
        "sns.histplot(data=df,x='price')"
      ],
      "metadata": {
        "id": "hwVFhaWnrzi-"
      },
      "execution_count": null,
      "outputs": []
    },
    {
      "cell_type": "markdown",
      "source": [
        "# narxi 200000 ortiq uylar kamligi uchun, tashlab yuboramiz"
      ],
      "metadata": {
        "id": "w5gRpw4EsJ5Z"
      }
    },
    {
      "cell_type": "code",
      "source": [
        "df=df[df['price']<200000]"
      ],
      "metadata": {
        "id": "wiwqZQoQsGB-"
      },
      "execution_count": null,
      "outputs": []
    },
    {
      "cell_type": "code",
      "source": [
        "sns.histplot(data=df,x='price')"
      ],
      "metadata": {
        "id": "eqPgemhEsNHJ"
      },
      "execution_count": null,
      "outputs": []
    },
    {
      "cell_type": "code",
      "source": [
        "print(f\"minimal uy narxi: {df['price'].min()} $\")\n",
        "print(f\"maximal uy narxi: {df['price'].max()} $\")\n",
        "print(f\"O\\'rtacha uy narxi: {df['price'].mean()} $\")"
      ],
      "metadata": {
        "id": "2Cr4TrqVsO53"
      },
      "execution_count": null,
      "outputs": []
    },
    {
      "cell_type": "code",
      "source": [
        "plt.figure(figsize=(16,8))\n",
        "sns.scatterplot(data=df,x='size',y='price',hue='rooms')"
      ],
      "metadata": {
        "id": "k6ScD744sR0-"
      },
      "execution_count": null,
      "outputs": []
    },
    {
      "cell_type": "code",
      "source": [
        "df['size'].shape"
      ],
      "metadata": {
        "id": "zkPIiPQZsUwn"
      },
      "execution_count": null,
      "outputs": []
    },
    {
      "cell_type": "code",
      "source": [
        "df[df['size']<150].shape"
      ],
      "metadata": {
        "id": "mIs5HW8wsYbK"
      },
      "execution_count": null,
      "outputs": []
    },
    {
      "cell_type": "markdown",
      "source": [
        "O'lchami 150 dan katta uylar ham deyarli yo'q ekan, bu malumotlarni tashlab yuboramiz"
      ],
      "metadata": {
        "id": "IfY-_nsMsqi9"
      }
    },
    {
      "cell_type": "code",
      "source": [
        "df=df[df['size']<150]"
      ],
      "metadata": {
        "id": "ugQvscI8sbQh"
      },
      "execution_count": null,
      "outputs": []
    },
    {
      "cell_type": "code",
      "source": [
        "plt.figure(figsize=(16,4))\n",
        "sns.histplot(data=df,x='rooms')\n",
        "plt.show()"
      ],
      "metadata": {
        "id": "aRa82WD5sf7X"
      },
      "execution_count": null,
      "outputs": []
    },
    {
      "cell_type": "code",
      "source": [
        "df.shape"
      ],
      "metadata": {
        "id": "1XsEDi2CstmR"
      },
      "execution_count": null,
      "outputs": []
    },
    {
      "cell_type": "code",
      "source": [
        "df[df['rooms']<6].shape"
      ],
      "metadata": {
        "id": "H7Ro1F-2syAN"
      },
      "execution_count": null,
      "outputs": []
    },
    {
      "cell_type": "markdown",
      "source": [
        "## 5 xonagacha bo'lgan uylar soni ko'p ekan, 6 va undan ko'plarini hisobga olmaymiz"
      ],
      "metadata": {
        "id": "A2ab7ApNtDjL"
      }
    },
    {
      "cell_type": "code",
      "source": [
        "df=df[df['rooms']<6]"
      ],
      "metadata": {
        "id": "-QMfayBCs0-b"
      },
      "execution_count": null,
      "outputs": []
    },
    {
      "cell_type": "code",
      "source": [
        "plt.figure(figsize=(6,6))\n",
        "sns.histplot(data=df,x='rooms')\n",
        "plt.show()"
      ],
      "metadata": {
        "id": "PFC7wLN_s6aI"
      },
      "execution_count": null,
      "outputs": []
    },
    {
      "cell_type": "code",
      "source": [
        "plt.figure(figsize=(20,6))\n",
        "plt.grid()\n",
        "sns.histplot(data=df,x='district')\n",
        "plt.show()"
      ],
      "metadata": {
        "id": "mFKUSjEts8_4"
      },
      "execution_count": null,
      "outputs": []
    },
    {
      "cell_type": "code",
      "source": [
        "df['district'].value_counts()"
      ],
      "metadata": {
        "id": "4vZjVSsLtKXo"
      },
      "execution_count": null,
      "outputs": []
    },
    {
      "cell_type": "markdown",
      "source": [
        "Eng ko'p uylar Chilonzorda va Mirzo Ulug'bekda, Yangihayot va Bektemirda uylar kam ekan."
      ],
      "metadata": {
        "id": "eLpDOWUDtPNM"
      }
    },
    {
      "cell_type": "code",
      "source": [
        "plt.figure(figsize=(16,6))\n",
        "sns.barplot(y=df['price'],x=df['district'])"
      ],
      "metadata": {
        "id": "51NtB2fWtMqw"
      },
      "execution_count": null,
      "outputs": []
    },
    {
      "cell_type": "markdown",
      "source": [
        "Eng qimmat uylar Mirobodda.\n",
        "Yangihayot va Bektemirda uylar soni kam va arzon ekan."
      ],
      "metadata": {
        "id": "eTGnsKd5taxV"
      }
    },
    {
      "cell_type": "code",
      "source": [
        "df1=df.groupby('district').price.mean()\n",
        "print(f\"uylarni o'rtacha narxlari tuman-\"\n",
        "      f\"{df1}\")"
      ],
      "metadata": {
        "id": "wOgC6ldLtTar"
      },
      "execution_count": null,
      "outputs": []
    },
    {
      "cell_type": "markdown",
      "source": [
        "## xonalar soniga ko'ra uylarni o'rtacha narxlari"
      ],
      "metadata": {
        "id": "pTcZulq8trUN"
      }
    },
    {
      "cell_type": "code",
      "source": [
        "df1=df.groupby('rooms').price.mean()\n",
        "df1"
      ],
      "metadata": {
        "id": "sFWz-QQOtWmh"
      },
      "execution_count": null,
      "outputs": []
    },
    {
      "cell_type": "code",
      "source": [
        "df2=pd.DataFrame(df,columns=['district','rooms','price'])\n",
        "df2.head()"
      ],
      "metadata": {
        "id": "dOILbvigt9Vl"
      },
      "execution_count": null,
      "outputs": []
    },
    {
      "cell_type": "code",
      "source": [
        "df2=df2.set_index('district')\n",
        "df2"
      ],
      "metadata": {
        "id": "qrCg3QfeuAwZ"
      },
      "execution_count": null,
      "outputs": []
    },
    {
      "cell_type": "markdown",
      "source": [
        "## Har bir tumandagi uylarni xonalar bo'yicha narxlari quyida ko'rsatilgan"
      ],
      "metadata": {
        "id": "yl4Asf72uJvn"
      }
    },
    {
      "cell_type": "code",
      "source": [
        "df3=pd.pivot_table(df2,index=['district','rooms'])\n",
        "df3"
      ],
      "metadata": {
        "id": "QoVTf3NguEvH"
      },
      "execution_count": null,
      "outputs": []
    },
    {
      "cell_type": "code",
      "source": [],
      "metadata": {
        "id": "qn6Z0-DhuNyz"
      },
      "execution_count": null,
      "outputs": []
    }
  ]
}